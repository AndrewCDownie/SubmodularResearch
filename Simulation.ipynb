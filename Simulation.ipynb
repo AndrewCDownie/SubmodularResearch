{
 "cells": [
  {
   "cell_type": "code",
   "execution_count": 2,
   "metadata": {
    "scrolled": true
   },
   "outputs": [],
   "source": [
    "from submodular import *"
   ]
  },
  {
   "cell_type": "code",
   "execution_count": 3,
   "metadata": {},
   "outputs": [
    {
     "name": "stdout",
     "output_type": "stream",
     "text": [
      "n =  2\n",
      "[||||||||||||||||||||||||||||||||||||||||||||||||||]\n",
      "No Replacement Avg: 1.0000000000000004, with Replacement Avg: 1.0000000000000004\n",
      "n =  3\n",
      "[||||||||||||||||||||||||||||||||||||||||||||||||||]\n",
      "No Replacement Avg: 0.9870976411353132, with Replacement Avg: 0.9958294137502288\n",
      "n =  4\n",
      "[||||||||||||||||||||||||||||||||||||||||||||||||||]\n",
      "No Replacement Avg: 0.9655311807617764, with Replacement Avg: 0.9838234421236226\n",
      "n =  5\n",
      "[||||||||||||||||||||||||||||||||||||||||||||||||||]\n",
      "No Replacement Avg: 0.956852628426607, with Replacement Avg: 0.974952586718534\n",
      "n =  6\n",
      "[||||||||||||||||||||||||||||||||||||||||||||||||||]\n",
      "No Replacement Avg: 0.9389003857157224, with Replacement Avg: 0.971837900889121\n",
      "n =  7\n",
      "[||||||||||||||||||||||||||||||||||||||||||||||||||]\n",
      "No Replacement Avg: 0.926075057717977, with Replacement Avg: 0.9662632357527856\n",
      "n =  8\n",
      "[||||||||||||||||||||||||||||||||||||||||||||||||||]\n",
      "No Replacement Avg: 0.8869360925665587, with Replacement Avg: 0.9544846433826757\n",
      "n =  9\n",
      "[||||||||||||||||||||||||||||||||||||||||||||||||||]\n",
      "No Replacement Avg: 0.9055767971667964, with Replacement Avg: 0.9504455438909613\n",
      "n =  10\n",
      "[||||||||||||||||||||||||||||||||||||||||||||||||||]\n",
      "No Replacement Avg: 0.8775877039553688, with Replacement Avg: 0.9376776624902735\n",
      "n =  11\n",
      "[||||||||||||||||||||||||||||||||||||||||||||||||||]\n",
      "No Replacement Avg: 0.8673037588660893, with Replacement Avg: 0.9297856419661296\n",
      "n =  12\n",
      "[||||||||||||||||||||||||||||||||||||||||||||||||||]\n",
      "No Replacement Avg: 0.8669279995129847, with Replacement Avg: 0.91616730239248\n",
      "n =  13\n",
      "[||||||||||||||||||||||||||||||||||||||||||||||||||]\n",
      "No Replacement Avg: 0.8408086370275475, with Replacement Avg: 0.9062347164471858\n",
      "n =  14\n",
      "[||||||||||||||||||||||||||||||||||||||||||||||||||]\n",
      "No Replacement Avg: 0.8314767244123638, with Replacement Avg: 0.894207578324983\n",
      "n =  15\n",
      "[||||||||||||||||||||||||||||||||||||||||||||||||||]\n",
      "No Replacement Avg: 0.8163306958143807, with Replacement Avg: 0.8850018675791844\n",
      "n =  16\n",
      "[||||||||||||||||||||||||||||||||||||||||||||||||||]\n",
      "No Replacement Avg: 0.8115485704746005, with Replacement Avg: 0.8907300532875256\n",
      "n =  17\n",
      "[||||||||||||||||||||||||||||||||||||||||||||||||||]\n",
      "No Replacement Avg: 0.787754476917866, with Replacement Avg: 0.8669741247105551\n",
      "n =  18\n",
      "[||||||||||||||||||||||||||||||||||||||||||||||||||]\n",
      "No Replacement Avg: 0.8178687168892878, with Replacement Avg: 0.8679246875174943\n",
      "n =  19\n",
      "[||||||||||||||||||||||||||||||||||||||||||||||||||]\n",
      "No Replacement Avg: 0.7844165474100043, with Replacement Avg: 0.8561568304296286\n"
     ]
    }
   ],
   "source": [
    "area_dims = (100,100)\n",
    "trial_nums = 50\n",
    "avgs = []\n",
    "\n",
    "for n in range(2,20):\n",
    "    print(\"n = \",n)\n",
    "    E1 = get_CDAG(n)\n",
    "    E2 = get_minumal_DAG(n)\n",
    "    avg = [0,0]\n",
    "    S2_trials = []\n",
    "    S3_trials = []\n",
    "    print(\"[\",end = \"\")\n",
    "    for i in range(trial_nums):\n",
    "        #generate Points\n",
    "        X = get_overalap_points(area_dims,n,5)\n",
    "        \n",
    "        #calculate Graphs\n",
    "        S1 = limited_information_greedy(X,E1)\n",
    "        S2 = limited_information_greedy(X,E2)\n",
    "        S3 = limited_information_greedy_with_replacement(X,E2)\n",
    "        \n",
    "        #collect Data\n",
    "        S2_trials.append(coverage(S2,10)/coverage(S1,10))\n",
    "        S3_trials.append(coverage(S3,10)/coverage(S1,10))\n",
    "        avg[0] +=(coverage(S2,10)/coverage(S1,10))/trial_nums\n",
    "        avg[1] +=(coverage(S3,10)/coverage(S1,10))/trial_nums\n",
    "        print(\"|\",end = \"\")\n",
    "    avgs.append(avg)\n",
    "    print(']')\n",
    "    print(\"No Replacement Avg: {0}, with Replacement Avg: {1}\".format(avg[0],avg[1]))\n",
    "\n",
    "        \n",
    "        \n",
    "    "
   ]
  },
  {
   "cell_type": "code",
   "execution_count": 4,
   "metadata": {},
   "outputs": [
    {
     "name": "stdout",
     "output_type": "stream",
     "text": [
      "[[1.0000000000000004, 1.0000000000000004], [0.9870976411353132, 0.9958294137502288], [0.9655311807617764, 0.9838234421236226], [0.956852628426607, 0.974952586718534], [0.9389003857157224, 0.971837900889121], [0.926075057717977, 0.9662632357527856], [0.8869360925665587, 0.9544846433826757], [0.9055767971667964, 0.9504455438909613], [0.8775877039553688, 0.9376776624902735], [0.8673037588660893, 0.9297856419661296], [0.8669279995129847, 0.91616730239248], [0.8408086370275475, 0.9062347164471858], [0.8314767244123638, 0.894207578324983], [0.8163306958143807, 0.8850018675791844], [0.8115485704746005, 0.8907300532875256], [0.787754476917866, 0.8669741247105551], [0.8178687168892878, 0.8679246875174943], [0.7844165474100043, 0.8561568304296286]]\n"
     ]
    }
   ],
   "source": [
    "print(avgs)\n"
   ]
  },
  {
   "cell_type": "code",
   "execution_count": 6,
   "metadata": {},
   "outputs": [
    {
     "name": "stdout",
     "output_type": "stream",
     "text": [
      "[1.         0.98709764 0.96553118 0.95685263 0.93890039 0.92607506\n",
      " 0.88693609 0.9055768  0.8775877  0.86730376 0.866928   0.84080864\n",
      " 0.83147672 0.8163307  0.81154857 0.78775448 0.81786872 0.78441655]\n"
     ]
    },
    {
     "data": {
      "image/png": "[encoded data removed]",
      "text/plain": [
       "<Figure size 432x288 with 1 Axes>"
      ]
     },
     "metadata": {
      "needs_background": "light"
     },
     "output_type": "display_data"
    }
   ],
   "source": [
    "import matplotlib.pyplot as plt\n",
    "import numpy as np\n",
    "\n",
    "avgs_mat = np.array(avgs)\n",
    "print(avgs_mat[:,0])\n",
    "plt.plot(avgs_mat[:,0])\n",
    "plt.plot(avgs_mat[:,1])\n",
    "plt.show()\n"
   ]
  },
  {
   "cell_type": "code",
   "execution_count": null,
   "metadata": {},
   "outputs": [],
   "source": []
  }
 ],
 "metadata": {
  "kernelspec": {
   "display_name": "Python 3",
   "language": "python",
   "name": "python3"
  },
  "language_info": {
   "codemirror_mode": {
    "name": "ipython",
    "version": 3
   },
   "file_extension": ".py",
   "mimetype": "text/x-python",
   "name": "python",
   "nbconvert_exporter": "python",
   "pygments_lexer": "ipython3",
   "version": "3.7.0"
  }
 },
 "nbformat": 4,
 "nbformat_minor": 2
}
